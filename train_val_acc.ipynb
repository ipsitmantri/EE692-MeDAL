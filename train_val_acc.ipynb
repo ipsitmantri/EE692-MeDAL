{
 "cells": [
  {
   "cell_type": "code",
   "execution_count": 1,
   "metadata": {},
   "outputs": [],
   "source": [
    "import pickle\n",
    "import numpy as np\n",
    "import torch\n",
    "import torch.nn as nn\n",
    "import torch.nn.functional as F\n",
    "import torchvision"
   ]
  },
  {
   "cell_type": "code",
   "execution_count": 2,
   "metadata": {},
   "outputs": [],
   "source": [
    "f = open('all_outputs_train.pkl','rb')\n",
    "all_outputs_train = pickle.load(f)"
   ]
  },
  {
   "cell_type": "code",
   "execution_count": 3,
   "metadata": {},
   "outputs": [],
   "source": [
    "f.close()"
   ]
  },
  {
   "cell_type": "code",
   "execution_count": 4,
   "metadata": {},
   "outputs": [],
   "source": [
    "g = open('all_outputs_val.pkl','rb')\n",
    "all_outputs_val = pickle.load(g)\n",
    "g.close()"
   ]
  },
  {
   "cell_type": "code",
   "execution_count": 5,
   "metadata": {},
   "outputs": [],
   "source": [
    "class Attention(nn.Module):\n",
    "    def __init__(self, pre_trained_net):\n",
    "        super(Attention, self).__init__()\n",
    "        self.L = 1000\n",
    "        self.D = 128\n",
    "        self.K = 1\n",
    "        self.pre_trained_net = pre_trained_net\n",
    "        self.l1 = nn.Sequential(nn.Linear(self.L, self.D), nn.Tanh())\n",
    "        self.l2 = nn.Sequential(nn.Linear(self.L, self.D), nn.Sigmoid())\n",
    "        self.l3 = nn.Linear(self.D, self.K)\n",
    "        self.classifier = nn.Sequential(nn.Linear(self.L * self.K, self.L * self.K),nn.ReLU())\n",
    "        self.final = nn.Sequential(nn.Linear(self.L * self.K,10),nn.Softmax(dim=1))\n",
    "        self.classifier_debug = nn.Sequential(nn.Linear(self.L, 10), nn.Softmax(dim=1))\n",
    "\n",
    "    def forward(self, x):\n",
    "        H = self.pre_trained_net(x)\n",
    "        A_V = self.l1(H)\n",
    "        A_U = self.l2(H)\n",
    "        A = self.l3(A_V * A_U)\n",
    "        A = torch.transpose(A, 1, 0)\n",
    "        A = F.softmax(A, dim=1)\n",
    "        M = torch.mm(A, H)\n",
    "        Y = self.classifier(M)\n",
    "        Y = self.final(Y)\n",
    "        return Y"
   ]
  },
  {
   "cell_type": "code",
   "execution_count": 6,
   "metadata": {},
   "outputs": [],
   "source": [
    "pre_trained_net = torchvision.models.resnet18(pretrained=True)\n",
    "model = Attention(pre_trained_net)"
   ]
  },
  {
   "cell_type": "code",
   "execution_count": 7,
   "metadata": {},
   "outputs": [],
   "source": [
    "model.load_state_dict(torch.load('trained_model.pth'))\n",
    "model = model.cuda()"
   ]
  },
  {
   "cell_type": "code",
   "execution_count": 8,
   "metadata": {},
   "outputs": [
    {
     "data": {
      "text/plain": [
       "dict_keys(['ZT111_4_A_1_12', 'ZT111_4_A_1_13', 'ZT111_4_A_1_14', 'ZT111_4_A_1_2', 'ZT111_4_A_1_5', 'ZT111_4_A_1_6', 'ZT111_4_A_1_7', 'ZT111_4_A_1_8', 'ZT111_4_A_1_9', 'ZT111_4_A_2_1', 'ZT111_4_A_2_10', 'ZT111_4_A_2_13', 'ZT111_4_A_2_14', 'ZT111_4_A_2_2', 'ZT111_4_A_2_8', 'ZT111_4_A_3_1', 'ZT111_4_A_3_10', 'ZT111_4_A_3_11', 'ZT111_4_A_3_12', 'ZT111_4_A_3_13', 'ZT111_4_A_3_2', 'ZT111_4_A_3_4', 'ZT111_4_A_3_5', 'ZT111_4_A_3_7', 'ZT111_4_A_3_8', 'ZT111_4_A_3_9', 'ZT111_4_A_4_11', 'ZT111_4_A_4_13', 'ZT111_4_A_4_14', 'ZT111_4_A_4_2', 'ZT111_4_A_4_4', 'ZT111_4_A_4_5', 'ZT111_4_A_4_6', 'ZT111_4_A_4_8', 'ZT111_4_A_4_9', 'ZT111_4_A_5_10', 'ZT111_4_A_5_11', 'ZT111_4_A_5_12', 'ZT111_4_A_5_13', 'ZT111_4_A_5_14', 'ZT111_4_A_5_3', 'ZT111_4_A_5_5', 'ZT111_4_A_5_9', 'ZT111_4_A_6_10', 'ZT111_4_A_6_11', 'ZT111_4_A_6_12', 'ZT111_4_A_6_13', 'ZT111_4_A_6_14', 'ZT111_4_A_6_4', 'ZT111_4_A_6_5', 'ZT111_4_A_6_6', 'ZT111_4_A_6_7', 'ZT111_4_A_6_8', 'ZT111_4_A_6_9', 'ZT111_4_A_7_1', 'ZT111_4_A_7_10', 'ZT111_4_A_7_11', 'ZT111_4_A_7_12', 'ZT111_4_A_7_13', 'ZT111_4_A_7_14', 'ZT111_4_A_7_2', 'ZT111_4_A_7_5', 'ZT111_4_A_7_6', 'ZT111_4_A_7_7', 'ZT111_4_A_8_10', 'ZT111_4_A_8_11', 'ZT111_4_A_8_12', 'ZT111_4_A_8_13', 'ZT111_4_A_8_14', 'ZT111_4_A_8_3', 'ZT111_4_A_8_4', 'ZT111_4_A_8_5', 'ZT111_4_A_8_6', 'ZT111_4_A_8_7', 'ZT111_4_A_8_8', 'ZT111_4_A_8_9', 'ZT111_4_B_1_1', 'ZT111_4_B_1_10', 'ZT111_4_B_1_11', 'ZT111_4_B_1_13', 'ZT111_4_B_1_14', 'ZT111_4_B_1_2', 'ZT111_4_B_1_3', 'ZT111_4_B_1_4', 'ZT111_4_B_1_5', 'ZT111_4_B_1_6', 'ZT111_4_B_1_7', 'ZT111_4_B_1_8', 'ZT111_4_B_1_9', 'ZT111_4_B_2_1', 'ZT111_4_B_2_12', 'ZT111_4_B_2_14', 'ZT111_4_B_2_2', 'ZT111_4_B_2_3', 'ZT111_4_B_2_5', 'ZT111_4_B_2_6', 'ZT111_4_B_2_7', 'ZT111_4_B_3_10', 'ZT111_4_B_3_13', 'ZT111_4_B_3_2', 'ZT111_4_B_3_3', 'ZT111_4_B_3_4', 'ZT111_4_B_3_5', 'ZT111_4_B_3_6', 'ZT111_4_B_3_8', 'ZT111_4_B_3_9', 'ZT111_4_B_4_1', 'ZT111_4_B_4_10', 'ZT111_4_B_4_11', 'ZT111_4_B_4_13', 'ZT111_4_B_4_3', 'ZT111_4_B_4_6', 'ZT111_4_B_4_7', 'ZT111_4_B_4_9', 'ZT111_4_B_5_10', 'ZT111_4_B_5_11', 'ZT111_4_B_5_12', 'ZT111_4_B_5_14', 'ZT111_4_B_5_2', 'ZT111_4_B_5_4', 'ZT111_4_B_5_5', 'ZT111_4_B_5_7', 'ZT111_4_B_5_8', 'ZT111_4_B_6_10', 'ZT111_4_B_6_11', 'ZT111_4_B_6_13', 'ZT111_4_B_6_2', 'ZT111_4_B_6_5', 'ZT111_4_B_6_6', 'ZT111_4_B_6_8', 'ZT111_4_B_7_11', 'ZT111_4_B_7_12', 'ZT111_4_B_7_14', 'ZT111_4_B_7_2', 'ZT111_4_B_7_5', 'ZT111_4_B_7_7', 'ZT111_4_B_7_9', 'ZT111_4_B_8_1', 'ZT111_4_B_8_11', 'ZT111_4_B_8_12', 'ZT111_4_B_8_13', 'ZT111_4_B_8_14', 'ZT111_4_B_8_3', 'ZT111_4_B_8_4', 'ZT111_4_B_8_8', 'ZT111_4_B_8_9', 'ZT111_4_C_1_1', 'ZT111_4_C_1_10', 'ZT111_4_C_1_11', 'ZT111_4_C_1_12', 'ZT111_4_C_1_13', 'ZT111_4_C_1_14', 'ZT111_4_C_1_2', 'ZT111_4_C_1_3', 'ZT111_4_C_1_5', 'ZT111_4_C_1_6', 'ZT111_4_C_1_7', 'ZT111_4_C_1_8', 'ZT111_4_C_1_9', 'ZT111_4_C_2_1', 'ZT111_4_C_2_10', 'ZT111_4_C_2_11', 'ZT111_4_C_2_12', 'ZT111_4_C_2_13', 'ZT111_4_C_2_2', 'ZT111_4_C_2_3', 'ZT111_4_C_2_6', 'ZT111_4_C_2_7', 'ZT111_4_C_2_8', 'ZT111_4_C_2_9', 'ZT111_4_C_3_1', 'ZT111_4_C_3_10', 'ZT111_4_C_3_12', 'ZT111_4_C_3_13', 'ZT111_4_C_3_2', 'ZT111_4_C_3_3', 'ZT111_4_C_3_4', 'ZT111_4_C_3_6', 'ZT111_4_C_3_8', 'ZT111_4_C_3_9', 'ZT111_4_C_4_1', 'ZT111_4_C_4_11', 'ZT111_4_C_4_12', 'ZT111_4_C_4_3', 'ZT111_4_C_4_4', 'ZT111_4_C_4_6', 'ZT111_4_C_4_7', 'ZT111_4_C_4_9', 'ZT111_4_C_5_10', 'ZT111_4_C_5_11', 'ZT111_4_C_5_12', 'ZT111_4_C_5_2', 'ZT111_4_C_5_4', 'ZT111_4_C_5_5', 'ZT111_4_C_5_8', 'ZT111_4_C_5_9', 'ZT111_4_C_6_10', 'ZT111_4_C_6_11', 'ZT111_4_C_6_12', 'ZT111_4_C_6_13', 'ZT111_4_C_6_2', 'ZT111_4_C_6_4', 'ZT111_4_C_6_5', 'ZT111_4_C_6_6', 'ZT111_4_C_6_8', 'ZT111_4_C_6_9', 'ZT111_4_C_7_1', 'ZT111_4_C_7_10', 'ZT111_4_C_7_12', 'ZT111_4_C_7_13', 'ZT111_4_C_7_2', 'ZT111_4_C_7_4', 'ZT111_4_C_7_5', 'ZT111_4_C_7_8', 'ZT111_4_C_7_9', 'ZT111_4_C_8_1', 'ZT111_4_C_8_11', 'ZT111_4_C_8_12', 'ZT111_4_C_8_13', 'ZT111_4_C_8_2', 'ZT111_4_C_8_3', 'ZT111_4_C_8_6', 'ZT111_4_C_8_7', 'ZT111_4_C_8_8', 'ZT111_4_C_8_9', 'ZT199_1_A_1_1', 'ZT199_1_A_1_10', 'ZT199_1_A_1_11', 'ZT199_1_A_1_2', 'ZT199_1_A_1_3', 'ZT199_1_A_1_4', 'ZT199_1_A_1_5', 'ZT199_1_A_1_6', 'ZT199_1_A_1_7', 'ZT199_1_A_1_9', 'ZT199_1_A_2_1', 'ZT199_1_A_2_11', 'ZT199_1_A_2_12', 'ZT199_1_A_2_13', 'ZT199_1_A_2_2', 'ZT199_1_A_2_3', 'ZT199_1_A_2_4', 'ZT199_1_A_2_6', 'ZT199_1_A_2_7', 'ZT199_1_A_2_8', 'ZT199_1_A_2_9', 'ZT199_1_A_3_10', 'ZT199_1_A_3_11', 'ZT199_1_A_3_12', 'ZT199_1_A_3_14', 'ZT199_1_A_3_2', 'ZT199_1_A_3_3', 'ZT199_1_A_3_4', 'ZT199_1_A_3_5', 'ZT199_1_A_3_6', 'ZT199_1_A_3_8', 'ZT199_1_A_3_9', 'ZT199_1_A_4_1', 'ZT199_1_A_4_10', 'ZT199_1_A_4_11', 'ZT199_1_A_4_12', 'ZT199_1_A_4_2', 'ZT199_1_A_4_3', 'ZT199_1_A_4_4', 'ZT199_1_A_4_5', 'ZT199_1_A_4_6', 'ZT199_1_A_4_8', 'ZT199_1_A_4_9', 'ZT199_1_A_5_1', 'ZT199_1_A_5_10', 'ZT199_1_A_5_11', 'ZT199_1_A_5_12', 'ZT199_1_A_5_13', 'ZT199_1_A_5_14', 'ZT199_1_A_5_2', 'ZT199_1_A_5_3', 'ZT199_1_A_5_4', 'ZT199_1_A_5_5', 'ZT199_1_A_5_6', 'ZT199_1_A_5_7', 'ZT199_1_A_5_8', 'ZT199_1_A_5_9', 'ZT199_1_A_6_1', 'ZT199_1_A_6_10', 'ZT199_1_A_6_11', 'ZT199_1_A_6_12', 'ZT199_1_A_6_14', 'ZT199_1_A_6_2', 'ZT199_1_A_6_3', 'ZT199_1_A_6_4', 'ZT199_1_A_6_5', 'ZT199_1_A_6_6', 'ZT199_1_A_6_7', 'ZT199_1_A_6_8', 'ZT199_1_A_6_9', 'ZT199_1_A_7_1', 'ZT199_1_A_7_10', 'ZT199_1_A_7_11', 'ZT199_1_A_7_13', 'ZT199_1_A_7_14', 'ZT199_1_A_7_2', 'ZT199_1_A_7_3', 'ZT199_1_A_7_4', 'ZT199_1_A_7_5', 'ZT199_1_A_7_6', 'ZT199_1_A_7_7', 'ZT199_1_A_7_8', 'ZT199_1_A_7_9', 'ZT199_1_A_8_1', 'ZT199_1_A_8_10', 'ZT199_1_A_8_11', 'ZT199_1_A_8_12', 'ZT199_1_A_8_13', 'ZT199_1_A_8_14', 'ZT199_1_A_8_2', 'ZT199_1_A_8_4', 'ZT199_1_A_8_6', 'ZT199_1_A_8_8', 'ZT199_1_A_8_9', 'ZT199_1_B_1_10', 'ZT199_1_B_1_11', 'ZT199_1_B_1_3', 'ZT199_1_B_1_4', 'ZT199_1_B_1_6', 'ZT199_1_B_1_7', 'ZT199_1_B_1_8', 'ZT199_1_B_1_9', 'ZT199_1_B_2_1', 'ZT199_1_B_2_10', 'ZT199_1_B_2_11', 'ZT199_1_B_2_13', 'ZT199_1_B_2_2', 'ZT199_1_B_2_3', 'ZT199_1_B_2_4', 'ZT199_1_B_2_6', 'ZT199_1_B_2_7', 'ZT199_1_B_2_8', 'ZT199_1_B_2_9', 'ZT199_1_B_3_1', 'ZT199_1_B_3_10', 'ZT199_1_B_3_11', 'ZT199_1_B_3_2', 'ZT199_1_B_3_3', 'ZT199_1_B_3_4', 'ZT199_1_B_3_5', 'ZT199_1_B_3_6', 'ZT199_1_B_3_7', 'ZT199_1_B_3_8', 'ZT199_1_B_3_9', 'ZT199_1_B_4_1', 'ZT199_1_B_4_10', 'ZT199_1_B_4_12', 'ZT199_1_B_4_2', 'ZT199_1_B_4_3', 'ZT199_1_B_4_4', 'ZT199_1_B_4_5', 'ZT199_1_B_4_6', 'ZT199_1_B_4_7', 'ZT199_1_B_4_8', 'ZT199_1_B_4_9', 'ZT199_1_B_5_1', 'ZT199_1_B_5_10', 'ZT199_1_B_5_11', 'ZT199_1_B_5_12', 'ZT199_1_B_5_2', 'ZT199_1_B_5_3', 'ZT199_1_B_5_4', 'ZT199_1_B_5_5', 'ZT199_1_B_5_6', 'ZT199_1_B_5_7', 'ZT199_1_B_5_9', 'ZT199_1_B_6_1', 'ZT199_1_B_6_11', 'ZT199_1_B_6_12', 'ZT199_1_B_6_2', 'ZT199_1_B_6_3', 'ZT199_1_B_6_4', 'ZT199_1_B_6_5', 'ZT199_1_B_6_6', 'ZT199_1_B_6_7', 'ZT199_1_B_6_8', 'ZT199_1_B_6_9', 'ZT199_1_B_7_1', 'ZT199_1_B_7_10', 'ZT199_1_B_7_11', 'ZT199_1_B_7_2', 'ZT199_1_B_7_3', 'ZT199_1_B_7_5', 'ZT199_1_B_7_7', 'ZT199_1_B_7_9', 'ZT199_1_B_8_1', 'ZT199_1_B_8_10', 'ZT199_1_B_8_11', 'ZT199_1_B_8_12', 'ZT199_1_B_8_2', 'ZT199_1_B_8_3', 'ZT199_1_B_8_5', 'ZT199_1_B_8_6', 'ZT199_1_B_8_7', 'ZT199_1_B_8_8', 'ZT199_1_B_8_9', 'ZT204_6_A_1_10', 'ZT204_6_A_1_2', 'ZT204_6_A_1_3', 'ZT204_6_A_1_5', 'ZT204_6_A_1_8', 'ZT204_6_A_2_1', 'ZT204_6_A_2_10', 'ZT204_6_A_2_11', 'ZT204_6_A_2_2', 'ZT204_6_A_2_3', 'ZT204_6_A_2_4', 'ZT204_6_A_2_5', 'ZT204_6_A_2_7', 'ZT204_6_A_2_9', 'ZT204_6_A_3_1', 'ZT204_6_A_3_2', 'ZT204_6_A_3_7', 'ZT204_6_A_3_8', 'ZT204_6_A_3_9', 'ZT204_6_A_4_1', 'ZT204_6_A_4_11', 'ZT204_6_A_4_2', 'ZT204_6_A_4_4', 'ZT204_6_A_4_5', 'ZT204_6_A_4_6', 'ZT204_6_A_4_7', 'ZT204_6_A_4_8', 'ZT204_6_A_4_9', 'ZT204_6_A_5_10', 'ZT204_6_A_5_2', 'ZT204_6_A_5_6', 'ZT204_6_A_5_7', 'ZT204_6_A_5_9', 'ZT204_6_A_6_10', 'ZT204_6_A_6_6', 'ZT204_6_A_6_7', 'ZT204_6_A_6_8', 'ZT204_6_A_6_9', 'ZT204_6_A_7_10', 'ZT204_6_A_7_3', 'ZT204_6_A_7_4', 'ZT204_6_A_7_5', 'ZT204_6_A_7_8', 'ZT204_6_A_7_9', 'ZT204_6_A_8_10', 'ZT204_6_A_8_2', 'ZT204_6_A_8_3', 'ZT204_6_A_8_4', 'ZT204_6_A_8_6', 'ZT204_6_A_8_8', 'ZT204_6_A_8_9', 'ZT204_6_B_1_1', 'ZT204_6_B_1_2', 'ZT204_6_B_1_4', 'ZT204_6_B_1_5', 'ZT204_6_B_1_6', 'ZT204_6_B_1_8', 'ZT204_6_B_1_9', 'ZT204_6_B_2_10', 'ZT204_6_B_2_3', 'ZT204_6_B_2_4', 'ZT204_6_B_2_6', 'ZT204_6_B_2_8', 'ZT204_6_B_3_1', 'ZT204_6_B_3_10', 'ZT204_6_B_3_4', 'ZT204_6_B_3_5', 'ZT204_6_B_3_7', 'ZT204_6_B_3_8', 'ZT204_6_B_3_9', 'ZT204_6_B_4_10', 'ZT204_6_B_4_4', 'ZT204_6_B_4_5', 'ZT204_6_B_4_8', 'ZT204_6_B_4_9', 'ZT204_6_B_5_1', 'ZT204_6_B_5_3', 'ZT204_6_B_5_5', 'ZT204_6_B_5_6', 'ZT204_6_B_5_7', 'ZT204_6_B_5_8', 'ZT204_6_B_5_9', 'ZT204_6_B_6_1', 'ZT204_6_B_6_3', 'ZT204_6_B_6_5', 'ZT204_6_B_6_7', 'ZT204_6_B_6_8', 'ZT204_6_B_6_9', 'ZT204_6_B_7_1', 'ZT204_6_B_7_2', 'ZT204_6_B_7_3', 'ZT204_6_B_7_4', 'ZT204_6_B_7_5', 'ZT204_6_B_7_8', 'ZT204_6_B_7_9', 'ZT204_6_B_8_1', 'ZT204_6_B_8_2', 'ZT204_6_B_8_3', 'ZT204_6_B_8_5', 'ZT204_6_B_8_6'])"
      ]
     },
     "execution_count": 8,
     "metadata": {},
     "output_type": "execute_result"
    }
   ],
   "source": [
    "all_outputs_train.keys()"
   ]
  },
  {
   "cell_type": "code",
   "execution_count": 9,
   "metadata": {},
   "outputs": [
    {
     "data": {
      "text/plain": [
       "dict_values"
      ]
     },
     "execution_count": 9,
     "metadata": {},
     "output_type": "execute_result"
    }
   ],
   "source": [
    "type(all_outputs_train.values())"
   ]
  },
  {
   "cell_type": "code",
   "execution_count": 10,
   "metadata": {},
   "outputs": [],
   "source": [
    "import os\n",
    "import pandas as pd\n",
    "def preprocess(image):\n",
    "    transform = transforms.Compose([\n",
    "        # transforms.RandomRotation(30),\n",
    "        transforms.RandomHorizontalFlip(),\n",
    "        transforms.RandomVerticalFlip(),\n",
    "        transforms.ColorJitter(),\n",
    "        # transforms.RandomCrop([224, 224]),\n",
    "        transforms.Resize(224,interpolation=2),\n",
    "        transforms.ToTensor(),\n",
    "        transforms.Normalize(mean=[0.485,0.456,0.406],std=[0.229,0.224,0.225])\n",
    "    ])\n",
    "    return transform(image)\n",
    "\n",
    "\n",
    "# encoding: [0+0,3+3,4+4,5+5,3+4,3+5,4+3,4+5,5+3,5+4]\n",
    "\n",
    "def onehot(file):\n",
    "    filew = pd.read_csv(file)\n",
    "    # one_hots = np.empty((filew.shape[0], 11),dtype=object)\n",
    "    one_hots = {}\n",
    "    for i in range(filew.shape[0]):\n",
    "        primary_score = filew.loc[i][0][-3]\n",
    "        secondary_score = filew.loc[i][0][-1]\n",
    "        # one_hots[i,0] = filew.loc[i][0][:-4]\n",
    "        key = filew.loc[i][0][:-4]\n",
    "        if primary_score == '0' and secondary_score == '0':\n",
    "            # one_hots[i, 1:] = np.eye(10)[0, :]\n",
    "            one_hots[key] = np.eye(10)[0,:]\n",
    "        elif primary_score == '1' and secondary_score == '1':\n",
    "            # one_hots[i, 1:] = np.eye(10)[1, :]\n",
    "            one_hots[key] = np.eye(10)[1, :]\n",
    "        elif primary_score == '2' and secondary_score == '2':\n",
    "            # one_hots[i, 1:] = np.eye(10)[2, :]\n",
    "            one_hots[key] = np.eye(10)[2, :]\n",
    "        elif primary_score == '3' and secondary_score == '3':\n",
    "            # one_hots[i, 1:] = np.eye(10)[3, :]\n",
    "            one_hots[key] = np.eye(10)[3, :]\n",
    "        elif primary_score == '1' and secondary_score == '2':\n",
    "            # one_hots[i, 1:] = np.eye(10)[4, :]\n",
    "            one_hots[key] = np.eye(10)[4, :]\n",
    "        elif primary_score == '1' and secondary_score == '3':\n",
    "            # one_hots[i, 1:] = np.eye(10)[5, :]\n",
    "            one_hots[key] = np.eye(10)[5, :]\n",
    "        elif primary_score == '2' and secondary_score == '1':\n",
    "            # one_hots[i, 1:] = np.eye(10)[6, :]\n",
    "            one_hots[key] = np.eye(10)[6, :]\n",
    "        elif primary_score == '2' and secondary_score == '3':\n",
    "            # one_hots[i, 1:] = np.eye(10)[7, :]\n",
    "            one_hots[key] = np.eye(10)[7, :]\n",
    "        elif primary_score == '3' and secondary_score == '1':\n",
    "            # one_hots[i, 1:] = np.eye(10)[8, :]\n",
    "            one_hots[key] = np.eye(10)[8, :]\n",
    "        elif primary_score == '3' and secondary_score == '2':\n",
    "            # one_hots[i, 1:] = np.eye(10)[9, :]\n",
    "            one_hots[key] = np.eye(10)[9, :]\n",
    "        else:\n",
    "            print('you are wrong, there are more than 10 possibilities,primary score:{},secondary score:{}'.format(primary_score,secondary_score))\n",
    "            # one_hots[i, :] = np.zeros(10)[0, :]\n",
    "            one_hots[key] = np.eye(10)[0, :]\n",
    "    return one_hots\n",
    "\n",
    "\n",
    "PARENT_DIR = 'dataset_TMA'\n",
    "train_val_masks_dir = os.path.join(PARENT_DIR, 'train_validation_patches_750')\n",
    "train_dirs = []\n",
    "val_dirs = []\n",
    "train_dirs_net = []\n",
    "val_dirs_net = []\n",
    "for dir in os.listdir(train_val_masks_dir):\n",
    "    if (dir.startswith('ZT111') or dir.startswith('ZT199') or dir.startswith('ZT204')):\n",
    "        train_dirs.append(dir)\n",
    "    elif dir.startswith('ZT76'):\n",
    "        val_dirs.append(dir)\n",
    "    if len(os.listdir(os.path.join(train_val_masks_dir,dir))) != 0:\n",
    "        if (dir.startswith('ZT111') or dir.startswith('ZT199') or dir.startswith('ZT204')):\n",
    "            train_dirs_net.append(dir)\n",
    "        elif dir.startswith('ZT76'):\n",
    "            val_dirs_net.append(dir)\n",
    "\n",
    "tma_info = os.path.join(PARENT_DIR, 'tma_info')\n",
    "train_arrays = ['ZT111', 'ZT199', 'ZT204']\n",
    "val_arrays = ['ZT76']\n",
    "one_hots_train = {}\n",
    "one_hots_val = {}\n",
    "\n",
    "for file in os.listdir(tma_info):\n",
    "    if file[0:5] in train_arrays:\n",
    "        one_hots_train[file[0:5]] = onehot(os.path.join(tma_info, file))\n",
    "    if file[0:4] in val_arrays:\n",
    "        one_hots_val[file[0:4]] = onehot(os.path.join(tma_info,file))"
   ]
  },
  {
   "cell_type": "code",
   "execution_count": 11,
   "metadata": {},
   "outputs": [],
   "source": [
    "empty_train = []\n",
    "empty_val = []\n",
    "for idx,dir in enumerate(train_dirs):\n",
    "    paths = os.path.join(train_val_masks_dir,dir)\n",
    "    if len(os.listdir(paths)) == 0:\n",
    "        empty_train.append(paths.split('\\\\')[2])\n",
    "for idx,dir in enumerate(val_dirs):\n",
    "    paths = os.path.join(train_val_masks_dir,dir)\n",
    "    if len(os.listdir(paths)) == 0:\n",
    "        empty_val.append(paths.split('\\\\')[2])\n",
    "one_hots_val_processed = {}\n",
    "one_hots_train_processed = {}\n",
    "for array in train_arrays:\n",
    "    dictionary = one_hots_train[array]\n",
    "    one_hots_train_processed[array] = {}\n",
    "    for key in dictionary.keys():\n",
    "        if key not in empty_train:\n",
    "            one_hots_train_processed[array][key] = dictionary[key]\n",
    "for array in val_arrays:\n",
    "    dictionary = one_hots_val[array]\n",
    "    one_hots_val_processed[array] = {}\n",
    "    for key in dictionary.keys():\n",
    "        if key not in empty_val:\n",
    "            one_hots_val_processed[array][key] = dictionary[key]"
   ]
  },
  {
   "cell_type": "code",
   "execution_count": 12,
   "metadata": {},
   "outputs": [],
   "source": [
    "from tqdm import tqdm"
   ]
  },
  {
   "cell_type": "code",
   "execution_count": 15,
   "metadata": {},
   "outputs": [
    {
     "data": {
      "text/plain": [
       "225"
      ]
     },
     "execution_count": 15,
     "metadata": {},
     "output_type": "execute_result"
    }
   ],
   "source": [
    "len(one_hots_train_processed['ZT111'].keys())"
   ]
  },
  {
   "cell_type": "code",
   "execution_count": 16,
   "metadata": {},
   "outputs": [
    {
     "data": {
      "text/plain": [
       "501"
      ]
     },
     "execution_count": 16,
     "metadata": {},
     "output_type": "execute_result"
    }
   ],
   "source": [
    "225+176+100"
   ]
  },
  {
   "cell_type": "code",
   "execution_count": 18,
   "metadata": {},
   "outputs": [
    {
     "data": {
      "text/plain": [
       "501"
      ]
     },
     "execution_count": 18,
     "metadata": {},
     "output_type": "execute_result"
    }
   ],
   "source": [
    "len(train_dirs_net)"
   ]
  },
  {
   "cell_type": "code",
   "execution_count": 19,
   "metadata": {},
   "outputs": [
    {
     "data": {
      "text/plain": [
       "['ZT111_4_A_5_7',\n",
       " 'ZT111_4_B_8_2',\n",
       " 'ZT204_6_A_1_11',\n",
       " 'ZT204_6_A_6_2',\n",
       " 'ZT204_6_B_1_3',\n",
       " 'ZT204_6_B_2_5',\n",
       " 'ZT204_6_B_2_9']"
      ]
     },
     "execution_count": 19,
     "metadata": {},
     "output_type": "execute_result"
    }
   ],
   "source": [
    "empty_train"
   ]
  },
  {
   "cell_type": "code",
   "execution_count": 20,
   "metadata": {},
   "outputs": [
    {
     "data": {
      "text/plain": [
       "['ZT76_39_A_2_9',\n",
       " 'ZT76_39_A_5_4',\n",
       " 'ZT76_39_A_7_4',\n",
       " 'ZT76_39_A_7_8',\n",
       " 'ZT76_39_B_1_4',\n",
       " 'ZT76_39_B_6_6']"
      ]
     },
     "execution_count": 20,
     "metadata": {},
     "output_type": "execute_result"
    }
   ],
   "source": [
    "empty_val"
   ]
  },
  {
   "cell_type": "code",
   "execution_count": 21,
   "metadata": {},
   "outputs": [
    {
     "data": {
      "text/plain": [
       "501"
      ]
     },
     "execution_count": 21,
     "metadata": {},
     "output_type": "execute_result"
    }
   ],
   "source": [
    "len(all_outputs_train)"
   ]
  },
  {
   "cell_type": "code",
   "execution_count": 22,
   "metadata": {},
   "outputs": [
    {
     "data": {
      "text/plain": [
       "False"
      ]
     },
     "execution_count": 22,
     "metadata": {},
     "output_type": "execute_result"
    }
   ],
   "source": [
    "all_outputs_train.keys() == one_hots_train_processed.keys()"
   ]
  },
  {
   "cell_type": "code",
   "execution_count": 23,
   "metadata": {},
   "outputs": [
    {
     "data": {
      "text/plain": [
       "dict_keys(['ZT111', 'ZT199', 'ZT204'])"
      ]
     },
     "execution_count": 23,
     "metadata": {},
     "output_type": "execute_result"
    }
   ],
   "source": [
    "one_hots_train_processed.keys()"
   ]
  },
  {
   "cell_type": "code",
   "execution_count": 30,
   "metadata": {},
   "outputs": [
    {
     "data": {
      "text/plain": [
       "501"
      ]
     },
     "execution_count": 30,
     "metadata": {},
     "output_type": "execute_result"
    }
   ],
   "source": [
    "keys = []\n",
    "for key in one_hots_train_processed.keys():\n",
    "    for k1 in one_hots_train_processed[key].keys():\n",
    "        keys.append(k1)\n",
    "len(keys)"
   ]
  },
  {
   "cell_type": "code",
   "execution_count": 31,
   "metadata": {},
   "outputs": [
    {
     "data": {
      "text/plain": [
       "False"
      ]
     },
     "execution_count": 31,
     "metadata": {},
     "output_type": "execute_result"
    }
   ],
   "source": [
    "all_outputs_train.keys() == keys"
   ]
  },
  {
   "cell_type": "code",
   "execution_count": 32,
   "metadata": {},
   "outputs": [
    {
     "data": {
      "text/plain": [
       "501"
      ]
     },
     "execution_count": 32,
     "metadata": {},
     "output_type": "execute_result"
    }
   ],
   "source": [
    "len(all_outputs_train.keys())"
   ]
  },
  {
   "cell_type": "code",
   "execution_count": 33,
   "metadata": {},
   "outputs": [
    {
     "data": {
      "text/plain": [
       "501"
      ]
     },
     "execution_count": 33,
     "metadata": {},
     "output_type": "execute_result"
    }
   ],
   "source": [
    "len(keys)"
   ]
  },
  {
   "cell_type": "code",
   "execution_count": 34,
   "metadata": {},
   "outputs": [
    {
     "data": {
      "text/plain": [
       "tensor([[0.0019, 0.8085, 0.1806, 0.0019, 0.0018, 0.0010, 0.0012, 0.0012, 0.0009,\n",
       "         0.0011]], requires_grad=True)"
      ]
     },
     "execution_count": 34,
     "metadata": {},
     "output_type": "execute_result"
    }
   ],
   "source": [
    "all_outputs_train[keys[0]]"
   ]
  },
  {
   "cell_type": "code",
   "execution_count": 35,
   "metadata": {},
   "outputs": [
    {
     "data": {
      "text/plain": [
       "['ZT111_4_A_1_12',\n",
       " 'ZT111_4_A_1_13',\n",
       " 'ZT111_4_A_1_14',\n",
       " 'ZT111_4_A_1_2',\n",
       " 'ZT111_4_A_1_5',\n",
       " 'ZT111_4_A_1_6',\n",
       " 'ZT111_4_A_1_7',\n",
       " 'ZT111_4_A_1_8',\n",
       " 'ZT111_4_A_1_9',\n",
       " 'ZT111_4_A_2_1']"
      ]
     },
     "execution_count": 35,
     "metadata": {},
     "output_type": "execute_result"
    }
   ],
   "source": [
    "keys[:10]"
   ]
  },
  {
   "cell_type": "code",
   "execution_count": 38,
   "metadata": {},
   "outputs": [
    {
     "data": {
      "text/plain": [
       "['ZT111_4_A_1_12',\n",
       " 'ZT111_4_A_1_13',\n",
       " 'ZT111_4_A_1_14',\n",
       " 'ZT111_4_A_1_2',\n",
       " 'ZT111_4_A_1_5',\n",
       " 'ZT111_4_A_1_6',\n",
       " 'ZT111_4_A_1_7',\n",
       " 'ZT111_4_A_1_8',\n",
       " 'ZT111_4_A_1_9',\n",
       " 'ZT111_4_A_2_1']"
      ]
     },
     "execution_count": 38,
     "metadata": {},
     "output_type": "execute_result"
    }
   ],
   "source": [
    "a = list(all_outputs_train.keys())\n",
    "a[:10]"
   ]
  },
  {
   "cell_type": "code",
   "execution_count": 39,
   "metadata": {},
   "outputs": [
    {
     "data": {
      "text/plain": [
       "True"
      ]
     },
     "execution_count": 39,
     "metadata": {},
     "output_type": "execute_result"
    }
   ],
   "source": [
    "a == keys"
   ]
  },
  {
   "cell_type": "code",
   "execution_count": 42,
   "metadata": {},
   "outputs": [
    {
     "data": {
      "text/plain": [
       "501"
      ]
     },
     "execution_count": 42,
     "metadata": {},
     "output_type": "execute_result"
    }
   ],
   "source": [
    "targets = {}\n",
    "for key in one_hots_train_processed.keys():\n",
    "    for k1,v1 in one_hots_train_processed[key].items():\n",
    "        targets[k1] = v1\n",
    "len(targets)"
   ]
  },
  {
   "cell_type": "code",
   "execution_count": 44,
   "metadata": {},
   "outputs": [
    {
     "data": {
      "text/plain": [
       "True"
      ]
     },
     "execution_count": 44,
     "metadata": {},
     "output_type": "execute_result"
    }
   ],
   "source": [
    "targets.keys() == all_outputs_train.keys()"
   ]
  },
  {
   "cell_type": "code",
   "execution_count": 61,
   "metadata": {},
   "outputs": [
    {
     "name": "stdout",
     "output_type": "stream",
     "text": [
      "1 4\n",
      "1 1\n",
      "1 1\n",
      "1 1\n",
      "1 1\n",
      "1 1\n",
      "1 4\n",
      "1 2\n",
      "1 1\n",
      "1 4\n",
      "1 1\n",
      "1 2\n",
      "1 1\n",
      "1 2\n",
      "1 2\n",
      "1 2\n",
      "1 2\n",
      "1 2\n",
      "1 4\n",
      "1 2\n",
      "1 7\n",
      "1 7\n",
      "1 2\n",
      "1 6\n",
      "1 1\n",
      "1 1\n",
      "1 3\n",
      "1 4\n",
      "1 1\n",
      "1 9\n",
      "1 1\n",
      "1 7\n",
      "1 1\n",
      "1 2\n",
      "1 2\n",
      "1 1\n",
      "1 4\n",
      "1 2\n",
      "1 1\n",
      "1 2\n",
      "1 1\n",
      "1 1\n",
      "1 4\n",
      "1 7\n",
      "1 2\n",
      "1 2\n",
      "1 2\n",
      "1 1\n",
      "1 4\n",
      "1 1\n",
      "1 1\n",
      "1 1\n",
      "1 3\n",
      "1 4\n",
      "1 1\n",
      "1 7\n",
      "1 5\n",
      "1 1\n",
      "1 1\n",
      "1 1\n",
      "1 7\n",
      "1 9\n",
      "1 1\n",
      "1 2\n",
      "1 3\n",
      "1 6\n",
      "1 2\n",
      "1 1\n",
      "1 4\n",
      "1 2\n",
      "1 2\n",
      "1 2\n",
      "1 1\n",
      "1 7\n",
      "1 2\n",
      "1 7\n",
      "1 9\n",
      "1 1\n",
      "1 1\n",
      "1 2\n",
      "1 2\n",
      "1 1\n",
      "1 1\n",
      "1 4\n",
      "1 2\n",
      "1 2\n",
      "1 1\n",
      "1 4\n",
      "1 4\n",
      "1 9\n",
      "1 4\n",
      "1 4\n",
      "1 2\n",
      "1 1\n",
      "1 2\n",
      "1 4\n",
      "1 1\n",
      "1 2\n",
      "1 1\n",
      "1 1\n",
      "1 4\n",
      "1 1\n",
      "1 7\n",
      "1 1\n",
      "1 2\n",
      "1 2\n",
      "1 1\n",
      "1 2\n",
      "1 1\n",
      "1 1\n",
      "1 4\n",
      "1 1\n",
      "1 2\n",
      "1 1\n",
      "1 3\n",
      "1 2\n",
      "1 1\n",
      "1 9\n",
      "1 1\n",
      "1 4\n",
      "1 2\n",
      "1 1\n",
      "1 3\n",
      "1 3\n",
      "1 1\n",
      "1 4\n",
      "1 7\n",
      "1 1\n",
      "1 1\n",
      "1 1\n",
      "1 1\n",
      "1 1\n",
      "1 1\n",
      "1 1\n",
      "1 1\n",
      "1 1\n",
      "1 4\n",
      "1 9\n",
      "1 1\n",
      "1 2\n",
      "1 1\n",
      "1 1\n",
      "1 2\n",
      "1 8\n",
      "1 2\n",
      "1 4\n",
      "1 6\n",
      "1 1\n",
      "1 1\n",
      "1 8\n",
      "1 4\n",
      "1 3\n",
      "1 1\n",
      "1 6\n",
      "1 4\n",
      "1 1\n",
      "1 1\n",
      "1 4\n",
      "1 4\n",
      "1 4\n",
      "1 6\n",
      "1 2\n",
      "1 6\n",
      "1 2\n",
      "1 2\n",
      "1 2\n",
      "1 2\n",
      "1 1\n",
      "1 4\n",
      "1 2\n",
      "1 1\n",
      "1 2\n",
      "1 2\n",
      "1 1\n",
      "1 2\n",
      "1 1\n",
      "1 1\n",
      "1 3\n",
      "1 2\n",
      "1 1\n",
      "1 1\n",
      "1 1\n",
      "1 1\n",
      "1 1\n",
      "1 2\n",
      "1 4\n",
      "1 2\n",
      "1 2\n",
      "1 1\n",
      "1 1\n",
      "1 2\n",
      "1 1\n",
      "1 1\n",
      "1 2\n",
      "1 1\n",
      "1 2\n",
      "1 4\n",
      "1 2\n",
      "1 1\n",
      "1 4\n",
      "1 4\n",
      "1 1\n",
      "1 4\n",
      "1 2\n",
      "1 1\n",
      "1 1\n",
      "1 2\n",
      "1 1\n",
      "1 1\n",
      "1 2\n",
      "1 2\n",
      "1 1\n",
      "1 2\n",
      "1 1\n",
      "1 2\n",
      "1 1\n",
      "1 2\n",
      "1 9\n",
      "1 2\n",
      "1 2\n",
      "1 1\n",
      "1 6\n",
      "1 1\n",
      "1 1\n",
      "1 2\n",
      "1 0\n",
      "1 0\n",
      "1 1\n",
      "1 1\n",
      "1 0\n",
      "1 6\n",
      "1 1\n",
      "1 0\n",
      "1 1\n",
      "1 1\n",
      "1 0\n",
      "1 1\n",
      "1 0\n",
      "1 0\n",
      "1 1\n",
      "1 0\n",
      "1 2\n",
      "1 0\n",
      "1 1\n",
      "1 1\n",
      "1 1\n",
      "1 1\n",
      "1 0\n",
      "1 1\n",
      "1 0\n",
      "1 0\n",
      "1 2\n",
      "1 1\n",
      "1 0\n",
      "1 1\n",
      "1 1\n",
      "1 0\n",
      "1 4\n",
      "1 1\n",
      "1 0\n",
      "1 1\n",
      "1 0\n",
      "1 2\n",
      "1 1\n",
      "1 0\n",
      "1 1\n",
      "1 1\n",
      "1 0\n",
      "1 0\n",
      "1 1\n",
      "1 4\n",
      "1 0\n",
      "1 0\n",
      "1 1\n",
      "1 1\n",
      "1 1\n",
      "1 0\n",
      "1 6\n",
      "1 0\n",
      "1 1\n",
      "1 0\n",
      "1 4\n",
      "1 0\n",
      "1 1\n",
      "1 4\n",
      "1 0\n",
      "1 1\n",
      "1 2\n",
      "1 1\n",
      "1 0\n",
      "1 4\n",
      "1 0\n",
      "1 1\n",
      "1 0\n",
      "1 1\n",
      "1 6\n",
      "1 0\n",
      "1 1\n",
      "1 1\n",
      "1 0\n",
      "1 4\n",
      "1 0\n",
      "1 2\n",
      "1 1\n",
      "1 4\n",
      "1 0\n",
      "1 4\n",
      "1 1\n",
      "1 1\n",
      "1 0\n",
      "1 1\n",
      "1 1\n",
      "1 1\n",
      "1 0\n",
      "1 1\n",
      "1 2\n",
      "1 6\n",
      "1 4\n",
      "1 1\n",
      "1 4\n",
      "1 1\n",
      "1 1\n",
      "1 0\n",
      "1 0\n",
      "1 2\n",
      "1 1\n",
      "1 0\n",
      "1 1\n",
      "1 1\n",
      "1 1\n",
      "1 1\n",
      "1 2\n",
      "1 1\n",
      "1 0\n",
      "1 0\n",
      "1 3\n",
      "1 1\n",
      "1 0\n",
      "1 0\n",
      "1 1\n",
      "1 0\n",
      "1 2\n",
      "1 0\n",
      "1 6\n",
      "1 0\n",
      "1 2\n",
      "1 2\n",
      "1 0\n",
      "1 2\n",
      "1 0\n",
      "1 1\n",
      "1 6\n",
      "1 2\n",
      "1 0\n",
      "1 2\n",
      "1 0\n",
      "1 2\n",
      "1 6\n",
      "1 0\n",
      "1 9\n",
      "1 1\n",
      "1 0\n",
      "1 4\n",
      "1 2\n",
      "1 0\n",
      "1 2\n",
      "1 1\n",
      "1 2\n",
      "1 2\n",
      "1 0\n",
      "1 2\n",
      "1 1\n",
      "1 4\n",
      "1 6\n",
      "1 0\n",
      "1 7\n",
      "1 2\n",
      "1 2\n",
      "1 2\n",
      "1 0\n",
      "1 1\n",
      "1 8\n",
      "1 0\n",
      "1 1\n",
      "1 4\n",
      "1 1\n",
      "1 1\n",
      "1 1\n",
      "1 2\n",
      "1 0\n",
      "1 0\n",
      "1 1\n",
      "1 4\n",
      "1 0\n",
      "1 1\n",
      "1 1\n",
      "1 6\n",
      "1 0\n",
      "1 2\n",
      "1 1\n",
      "1 0\n",
      "1 3\n",
      "1 2\n",
      "1 2\n",
      "1 2\n",
      "1 3\n",
      "1 9\n",
      "1 3\n",
      "1 9\n",
      "1 9\n",
      "1 2\n",
      "1 3\n",
      "1 2\n",
      "1 2\n",
      "1 3\n",
      "1 3\n",
      "1 2\n",
      "1 3\n",
      "1 3\n",
      "1 3\n",
      "1 3\n",
      "1 3\n",
      "1 3\n",
      "1 3\n",
      "1 6\n",
      "1 9\n",
      "1 3\n",
      "1 3\n",
      "1 3\n",
      "1 3\n",
      "1 3\n",
      "1 2\n",
      "1 3\n",
      "1 3\n",
      "1 3\n",
      "1 2\n",
      "1 3\n",
      "1 3\n",
      "1 3\n",
      "1 2\n",
      "1 3\n",
      "1 6\n",
      "1 3\n",
      "1 3\n",
      "1 3\n",
      "1 2\n",
      "1 3\n",
      "1 3\n",
      "1 1\n",
      "1 9\n",
      "1 2\n",
      "1 3\n",
      "1 3\n",
      "1 2\n",
      "1 3\n",
      "1 2\n",
      "1 3\n",
      "1 3\n",
      "1 3\n",
      "1 3\n",
      "1 2\n",
      "1 3\n",
      "1 7\n",
      "1 3\n",
      "1 2\n",
      "1 3\n",
      "1 3\n",
      "1 2\n",
      "1 3\n",
      "1 2\n",
      "1 3\n",
      "1 3\n",
      "1 3\n",
      "1 3\n",
      "1 3\n",
      "1 3\n",
      "1 2\n",
      "1 3\n",
      "1 3\n",
      "1 3\n",
      "1 3\n",
      "1 3\n",
      "1 3\n",
      "1 3\n",
      "1 3\n",
      "1 3\n",
      "1 3\n",
      "1 3\n",
      "1 3\n",
      "1 3\n",
      "1 2\n",
      "1 3\n",
      "1 3\n",
      "1 2\n",
      "1 7\n",
      "1 3\n",
      "1 3\n",
      "1 3\n",
      "1 3\n",
      "1 2\n",
      "1 3\n",
      "0.31137724550898205\n"
     ]
    }
   ],
   "source": [
    "counts = 0\n",
    "for key in all_outputs_train.keys():\n",
    "    target = np.argmax(targets[key])\n",
    "    pred = torch.argmax(all_outputs_train[key])\n",
    "    print(pred.item(),target)\n",
    "    if target == pred:\n",
    "        counts += 1\n",
    "print(counts / len(targets.keys()))"
   ]
  },
  {
   "cell_type": "code",
   "execution_count": 55,
   "metadata": {},
   "outputs": [
    {
     "data": {
      "text/plain": [
       "127"
      ]
     },
     "execution_count": 55,
     "metadata": {},
     "output_type": "execute_result"
    }
   ],
   "source": [
    "targets_val = {}\n",
    "for key in one_hots_val_processed.keys():\n",
    "    for k1,v1 in one_hots_val_processed[key].items():\n",
    "        targets_val[k1] = v1\n",
    "len(targets_val)"
   ]
  },
  {
   "cell_type": "code",
   "execution_count": 56,
   "metadata": {},
   "outputs": [
    {
     "data": {
      "text/plain": [
       "True"
      ]
     },
     "execution_count": 56,
     "metadata": {},
     "output_type": "execute_result"
    }
   ],
   "source": [
    "targets_val.keys() == all_outputs_val.keys()"
   ]
  },
  {
   "cell_type": "code",
   "execution_count": 60,
   "metadata": {},
   "outputs": [
    {
     "name": "stdout",
     "output_type": "stream",
     "text": [
      "1 0\n",
      "1 2\n",
      "1 6\n",
      "1 4\n",
      "1 0\n",
      "1 0\n",
      "1 0\n",
      "1 0\n",
      "1 0\n",
      "1 4\n",
      "1 1\n",
      "1 2\n",
      "1 0\n",
      "1 1\n",
      "1 2\n",
      "1 2\n",
      "1 1\n",
      "1 0\n",
      "1 0\n",
      "1 0\n",
      "1 0\n",
      "1 0\n",
      "1 1\n",
      "1 6\n",
      "1 0\n",
      "1 4\n",
      "1 1\n",
      "1 2\n",
      "1 4\n",
      "1 0\n",
      "1 0\n",
      "1 0\n",
      "1 0\n",
      "1 0\n",
      "1 1\n",
      "1 1\n",
      "1 1\n",
      "1 0\n",
      "1 1\n",
      "1 1\n",
      "1 6\n",
      "1 2\n",
      "1 0\n",
      "1 0\n",
      "1 0\n",
      "1 0\n",
      "1 1\n",
      "1 4\n",
      "1 1\n",
      "1 0\n",
      "1 4\n",
      "1 0\n",
      "1 0\n",
      "1 0\n",
      "1 0\n",
      "1 1\n",
      "1 1\n",
      "1 1\n",
      "1 0\n",
      "1 2\n",
      "1 6\n",
      "1 6\n",
      "1 1\n",
      "1 0\n",
      "1 0\n",
      "1 4\n",
      "1 1\n",
      "1 2\n",
      "1 6\n",
      "1 0\n",
      "1 4\n",
      "1 1\n",
      "1 1\n",
      "1 0\n",
      "1 0\n",
      "1 0\n",
      "1 1\n",
      "1 4\n",
      "1 0\n",
      "1 4\n",
      "1 2\n",
      "1 4\n",
      "1 0\n",
      "1 0\n",
      "1 0\n",
      "1 0\n",
      "1 1\n",
      "1 1\n",
      "1 6\n",
      "1 1\n",
      "1 1\n",
      "1 1\n",
      "1 1\n",
      "1 3\n",
      "1 3\n",
      "1 4\n",
      "1 4\n",
      "1 6\n",
      "1 3\n",
      "1 7\n",
      "1 6\n",
      "1 1\n",
      "1 6\n",
      "1 3\n",
      "1 3\n",
      "1 3\n",
      "1 2\n",
      "1 2\n",
      "1 2\n",
      "1 1\n",
      "1 1\n",
      "1 1\n",
      "1 3\n",
      "1 2\n",
      "1 1\n",
      "1 1\n",
      "1 6\n",
      "1 3\n",
      "1 9\n",
      "1 1\n",
      "1 2\n",
      "1 3\n",
      "1 3\n",
      "1 1\n",
      "1 4\n",
      "1 3\n",
      "1 3\n",
      "0.2677165354330709\n"
     ]
    }
   ],
   "source": [
    "counts_val = 0\n",
    "for key in all_outputs_val.keys():\n",
    "    target = np.argmax(targets_val[key])\n",
    "    pred = torch.argmax(all_outputs_val[key])\n",
    "    print(pred.item(),target)\n",
    "    if target == pred:\n",
    "        counts_val += 1\n",
    "print(counts_val / len(targets_val.keys()))"
   ]
  },
  {
   "cell_type": "code",
   "execution_count": 72,
   "metadata": {},
   "outputs": [
    {
     "data": {
      "text/plain": [
       "tensor([[0.0037, 0.7112, 0.2655, 0.0034, 0.0032, 0.0029, 0.0029, 0.0031, 0.0014,\n",
       "         0.0026]])"
      ]
     },
     "execution_count": 72,
     "metadata": {},
     "output_type": "execute_result"
    }
   ],
   "source": [
    "list(all_outputs_val.values())[90]"
   ]
  },
  {
   "cell_type": "code",
   "execution_count": null,
   "metadata": {},
   "outputs": [],
   "source": []
  },
  {
   "cell_type": "code",
   "execution_count": null,
   "metadata": {},
   "outputs": [],
   "source": []
  }
 ],
 "metadata": {
  "kernelspec": {
   "display_name": "Python 3",
   "language": "python",
   "name": "python3"
  },
  "language_info": {
   "codemirror_mode": {
    "name": "ipython",
    "version": 3
   },
   "file_extension": ".py",
   "mimetype": "text/x-python",
   "name": "python",
   "nbconvert_exporter": "python",
   "pygments_lexer": "ipython3",
   "version": "3.7.4"
  }
 },
 "nbformat": 4,
 "nbformat_minor": 4
}
